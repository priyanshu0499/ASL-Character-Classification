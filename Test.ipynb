{
 "cells": [
  {
   "cell_type": "markdown",
   "id": "62252eb9-53fc-4151-b5da-f8bf48171236",
   "metadata": {},
   "source": [
    "# Final Project - Testing Data"
   ]
  },
  {
   "cell_type": "code",
   "execution_count": 6,
   "id": "97e84295-bafc-40fc-8e94-6dc95b583b9d",
   "metadata": {
    "tags": []
   },
   "outputs": [],
   "source": [
    "import numpy as np\n",
    "from tensorflow.keras.models import load_model\n",
    "from tensorflow.keras.utils import to_categorical\n",
    "from sklearn.metrics import accuracy_score\n",
    "\n",
    "def image_batch_generator(data, labels, batch_size, img_dim=(300, 300)):\n",
    "    total_samples = data.shape[0]\n",
    "    while True:\n",
    "        for start in range(0, total_samples, batch_size):\n",
    "            end = min(start + batch_size, total_samples)\n",
    "            batch_data = data[start:end]\n",
    "            batch_images = batch_data.reshape(-1, img_dim[0], img_dim[1], 3)\n",
    "            batch_images = batch_images.astype('float32') / 255.0\n",
    "            batch_labels = labels[start:end]\n",
    "            yield batch_images, batch_labels\n",
    "\n",
    "def load_and_preprocess_test_data(data_path, labels_path):\n",
    "    data_test = np.load(data_path)\n",
    "    labels_test = np.load(labels_path)\n",
    "    data_test = data_test.T  # Transpose data_test so that each image is a row\n",
    "    labels_test_cat = to_categorical(labels_test, num_classes=9)\n",
    "\n",
    "    return data_test, labels_test_cat\n",
    "\n",
    "\n",
    "def evaluate_model(model_path, test_data, test_labels, batch_size):\n",
    "    model = load_model(model_path)\n",
    "    test_generator = image_batch_generator(test_data, test_labels, batch_size)\n",
    "    steps = np.ceil(len(test_data) / batch_size)\n",
    "\n",
    "    predictions = model.predict(test_generator, steps=steps)\n",
    "    predicted_labels = np.argmax(predictions, axis=1).astype(float)  # Convert to float\n",
    "    true_labels = np.argmax(test_labels, axis=1)\n",
    "    accuracy = accuracy_score(true_labels, predicted_labels)\n",
    "\n",
    "    return predicted_labels, accuracy\n",
    "\n",
    "\n"
   ]
  },
  {
   "cell_type": "code",
   "execution_count": 7,
   "id": "d543dd73-48df-481f-b4d0-bdd5f9e5c993",
   "metadata": {
    "tags": []
   },
   "outputs": [
    {
     "name": "stdout",
     "output_type": "stream",
     "text": [
      "Test Accuracy: 0.97\n",
      "Predicted Labels (float): [8. 8. 1. ... 1. 5. 5.]\n"
     ]
    }
   ],
   "source": [
    "if __name__ == '__main__':\n",
    "    test_data_path = 'data_train.npy'\n",
    "    test_labels_path = 'labels_train.npy'\n",
    "    model_path = 'model.h5'\n",
    "    batch_size = 32\n",
    "\n",
    "    # Load and preprocess test data\n",
    "    data_test, labels_test_cat = load_and_preprocess_test_data(test_data_path, test_labels_path)\n",
    "    # Evaluate model\n",
    "    predicted_labels, test_accuracy = evaluate_model(model_path, data_test, labels_test_cat, batch_size)\n",
    "\n",
    "    # Output\n",
    "    print(f\"Test Accuracy: {test_accuracy:.2f}\")\n",
    "    print(\"Predicted Labels (float):\", predicted_labels)\n"
   ]
  },
  {
   "cell_type": "code",
   "execution_count": 24,
   "id": "a1d73b77-03f7-4240-9e20-44211799bad6",
   "metadata": {
    "tags": []
   },
   "outputs": [
    {
     "data": {
      "text/plain": [
       "8443"
      ]
     },
     "execution_count": 24,
     "metadata": {},
     "output_type": "execute_result"
    }
   ],
   "source": [
    "len(predicted_labels)"
   ]
  },
  {
   "cell_type": "code",
   "execution_count": null,
   "id": "fc524649-e45e-40ac-939f-5218ec1555c0",
   "metadata": {},
   "outputs": [],
   "source": []
  }
 ],
 "metadata": {
  "kernelspec": {
   "display_name": "Tensorflow-2.6.0",
   "language": "python",
   "name": "tensorflow-2.6.0"
  },
  "language_info": {
   "codemirror_mode": {
    "name": "ipython",
    "version": 3
   },
   "file_extension": ".py",
   "mimetype": "text/x-python",
   "name": "python",
   "nbconvert_exporter": "python",
   "pygments_lexer": "ipython3",
   "version": "3.9.7"
  }
 },
 "nbformat": 4,
 "nbformat_minor": 5
}
